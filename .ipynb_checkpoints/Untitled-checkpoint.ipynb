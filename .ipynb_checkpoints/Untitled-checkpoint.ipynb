{
 "cells": [],
 "metadata": {
  "jupytext": {
   "comment_magics": true
  }
 },
 "nbformat": 4,
 "nbformat_minor": 2
}
